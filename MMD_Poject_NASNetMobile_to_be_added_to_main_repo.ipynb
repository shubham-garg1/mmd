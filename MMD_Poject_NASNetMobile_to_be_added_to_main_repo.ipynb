{
  "nbformat": 4,
  "nbformat_minor": 0,
  "metadata": {
    "colab": {
      "provenance": [],
      "collapsed_sections": [
        "zc6xktESz2I6",
        "F7TS1YsQLg93",
        "Hd2Fu4crY8oq",
        "6PraZ80Db99q",
        "OeT3SB-ZY8ov"
      ],
      "authorship_tag": "ABX9TyMk+9+sD7SfXC7sQGGG9Xpm",
      "include_colab_link": true
    },
    "kernelspec": {
      "name": "python3",
      "display_name": "Python 3"
    },
    "language_info": {
      "name": "python"
    },
    "accelerator": "TPU"
  },
  "cells": [
    {
      "cell_type": "markdown",
      "metadata": {
        "id": "view-in-github",
        "colab_type": "text"
      },
      "source": [
        "<a href=\"https://colab.research.google.com/github/shubham-garg1/mmd/blob/main/MMD_Poject_NASNetMobile_to_be_added_to_main_repo.ipynb\" target=\"_parent\"><img src=\"https://colab.research.google.com/assets/colab-badge.svg\" alt=\"Open In Colab\"/></a>"
      ]
    },
    {
      "cell_type": "markdown",
      "metadata": {
        "id": "zc6xktESz2I6"
      },
      "source": [
        "# Mounting GCS Bucket:"
      ]
    },
    {
      "cell_type": "code",
      "execution_count": 1,
      "metadata": {
        "colab": {
          "base_uri": "https://localhost:8080/"
        },
        "id": "NCXf6BMgzg_9",
        "outputId": "3a5f489e-558d-4f5a-b231-443eb68ad450"
      },
      "outputs": [
        {
          "output_type": "stream",
          "name": "stdout",
          "text": [
            "Requirement already satisfied: tensorflow in /usr/local/lib/python3.10/dist-packages (2.12.0)\n",
            "Collecting tensorflow\n",
            "  Downloading tensorflow-2.15.0.post1-cp310-cp310-manylinux_2_17_x86_64.manylinux2014_x86_64.whl (475.2 MB)\n",
            "\u001b[2K     \u001b[90m━━━━━━━━━━━━━━━━━━━━━━━━━━━━━━━━━━━━━━━━\u001b[0m \u001b[32m475.2/475.2 MB\u001b[0m \u001b[31m915.4 kB/s\u001b[0m eta \u001b[36m0:00:00\u001b[0m\n",
            "\u001b[?25hRequirement already satisfied: absl-py>=1.0.0 in /usr/local/lib/python3.10/dist-packages (from tensorflow) (1.4.0)\n",
            "Requirement already satisfied: astunparse>=1.6.0 in /usr/local/lib/python3.10/dist-packages (from tensorflow) (1.6.3)\n",
            "Requirement already satisfied: flatbuffers>=23.5.26 in /usr/local/lib/python3.10/dist-packages (from tensorflow) (23.5.26)\n",
            "Requirement already satisfied: gast!=0.5.0,!=0.5.1,!=0.5.2,>=0.2.1 in /usr/local/lib/python3.10/dist-packages (from tensorflow) (0.4.0)\n",
            "Requirement already satisfied: google-pasta>=0.1.1 in /usr/local/lib/python3.10/dist-packages (from tensorflow) (0.2.0)\n",
            "Requirement already satisfied: h5py>=2.9.0 in /usr/local/lib/python3.10/dist-packages (from tensorflow) (3.9.0)\n",
            "Requirement already satisfied: libclang>=13.0.0 in /usr/local/lib/python3.10/dist-packages (from tensorflow) (16.0.6)\n",
            "Requirement already satisfied: ml-dtypes~=0.2.0 in /usr/local/lib/python3.10/dist-packages (from tensorflow) (0.2.0)\n",
            "Requirement already satisfied: numpy<2.0.0,>=1.23.5 in /usr/local/lib/python3.10/dist-packages (from tensorflow) (1.23.5)\n",
            "Requirement already satisfied: opt-einsum>=2.3.2 in /usr/local/lib/python3.10/dist-packages (from tensorflow) (3.3.0)\n",
            "Requirement already satisfied: packaging in /usr/local/lib/python3.10/dist-packages (from tensorflow) (23.2)\n",
            "Requirement already satisfied: protobuf!=4.21.0,!=4.21.1,!=4.21.2,!=4.21.3,!=4.21.4,!=4.21.5,<5.0.0dev,>=3.20.3 in /usr/local/lib/python3.10/dist-packages (from tensorflow) (3.20.3)\n",
            "Requirement already satisfied: setuptools in /usr/local/lib/python3.10/dist-packages (from tensorflow) (67.7.2)\n",
            "Requirement already satisfied: six>=1.12.0 in /usr/local/lib/python3.10/dist-packages (from tensorflow) (1.16.0)\n",
            "Requirement already satisfied: termcolor>=1.1.0 in /usr/local/lib/python3.10/dist-packages (from tensorflow) (2.4.0)\n",
            "Requirement already satisfied: typing-extensions>=3.6.6 in /usr/local/lib/python3.10/dist-packages (from tensorflow) (4.5.0)\n",
            "Requirement already satisfied: wrapt<1.15,>=1.11.0 in /usr/local/lib/python3.10/dist-packages (from tensorflow) (1.14.1)\n",
            "Requirement already satisfied: tensorflow-io-gcs-filesystem>=0.23.1 in /usr/local/lib/python3.10/dist-packages (from tensorflow) (0.34.0)\n",
            "Requirement already satisfied: grpcio<2.0,>=1.24.3 in /usr/local/lib/python3.10/dist-packages (from tensorflow) (1.60.0)\n",
            "Collecting tensorboard<2.16,>=2.15 (from tensorflow)\n",
            "  Downloading tensorboard-2.15.1-py3-none-any.whl (5.5 MB)\n",
            "\u001b[2K     \u001b[90m━━━━━━━━━━━━━━━━━━━━━━━━━━━━━━━━━━━━━━━━\u001b[0m \u001b[32m5.5/5.5 MB\u001b[0m \u001b[31m35.9 MB/s\u001b[0m eta \u001b[36m0:00:00\u001b[0m\n",
            "\u001b[?25hCollecting tensorflow-estimator<2.16,>=2.15.0 (from tensorflow)\n",
            "  Downloading tensorflow_estimator-2.15.0-py2.py3-none-any.whl (441 kB)\n",
            "\u001b[2K     \u001b[90m━━━━━━━━━━━━━━━━━━━━━━━━━━━━━━━━━━━━━━━━\u001b[0m \u001b[32m442.0/442.0 kB\u001b[0m \u001b[31m18.1 MB/s\u001b[0m eta \u001b[36m0:00:00\u001b[0m\n",
            "\u001b[?25hCollecting keras<2.16,>=2.15.0 (from tensorflow)\n",
            "  Downloading keras-2.15.0-py3-none-any.whl (1.7 MB)\n",
            "\u001b[2K     \u001b[90m━━━━━━━━━━━━━━━━━━━━━━━━━━━━━━━━━━━━━━━━\u001b[0m \u001b[32m1.7/1.7 MB\u001b[0m \u001b[31m44.6 MB/s\u001b[0m eta \u001b[36m0:00:00\u001b[0m\n",
            "\u001b[?25hRequirement already satisfied: wheel<1.0,>=0.23.0 in /usr/local/lib/python3.10/dist-packages (from astunparse>=1.6.0->tensorflow) (0.42.0)\n",
            "Requirement already satisfied: google-auth<3,>=1.6.3 in /usr/local/lib/python3.10/dist-packages (from tensorboard<2.16,>=2.15->tensorflow) (2.17.3)\n",
            "Collecting google-auth-oauthlib<2,>=0.5 (from tensorboard<2.16,>=2.15->tensorflow)\n",
            "  Downloading google_auth_oauthlib-1.2.0-py2.py3-none-any.whl (24 kB)\n",
            "Requirement already satisfied: markdown>=2.6.8 in /usr/local/lib/python3.10/dist-packages (from tensorboard<2.16,>=2.15->tensorflow) (3.5.1)\n",
            "Requirement already satisfied: requests<3,>=2.21.0 in /usr/local/lib/python3.10/dist-packages (from tensorboard<2.16,>=2.15->tensorflow) (2.31.0)\n",
            "Requirement already satisfied: tensorboard-data-server<0.8.0,>=0.7.0 in /usr/local/lib/python3.10/dist-packages (from tensorboard<2.16,>=2.15->tensorflow) (0.7.2)\n",
            "Requirement already satisfied: werkzeug>=1.0.1 in /usr/local/lib/python3.10/dist-packages (from tensorboard<2.16,>=2.15->tensorflow) (3.0.1)\n",
            "Requirement already satisfied: cachetools<6.0,>=2.0.0 in /usr/local/lib/python3.10/dist-packages (from google-auth<3,>=1.6.3->tensorboard<2.16,>=2.15->tensorflow) (5.3.2)\n",
            "Requirement already satisfied: pyasn1-modules>=0.2.1 in /usr/local/lib/python3.10/dist-packages (from google-auth<3,>=1.6.3->tensorboard<2.16,>=2.15->tensorflow) (0.3.0)\n",
            "Requirement already satisfied: rsa<5,>=3.1.4 in /usr/local/lib/python3.10/dist-packages (from google-auth<3,>=1.6.3->tensorboard<2.16,>=2.15->tensorflow) (4.9)\n",
            "Requirement already satisfied: requests-oauthlib>=0.7.0 in /usr/local/lib/python3.10/dist-packages (from google-auth-oauthlib<2,>=0.5->tensorboard<2.16,>=2.15->tensorflow) (1.3.1)\n",
            "Requirement already satisfied: charset-normalizer<4,>=2 in /usr/local/lib/python3.10/dist-packages (from requests<3,>=2.21.0->tensorboard<2.16,>=2.15->tensorflow) (3.3.2)\n",
            "Requirement already satisfied: idna<4,>=2.5 in /usr/local/lib/python3.10/dist-packages (from requests<3,>=2.21.0->tensorboard<2.16,>=2.15->tensorflow) (3.6)\n",
            "Requirement already satisfied: urllib3<3,>=1.21.1 in /usr/local/lib/python3.10/dist-packages (from requests<3,>=2.21.0->tensorboard<2.16,>=2.15->tensorflow) (2.0.7)\n",
            "Requirement already satisfied: certifi>=2017.4.17 in /usr/local/lib/python3.10/dist-packages (from requests<3,>=2.21.0->tensorboard<2.16,>=2.15->tensorflow) (2023.11.17)\n",
            "Requirement already satisfied: MarkupSafe>=2.1.1 in /usr/local/lib/python3.10/dist-packages (from werkzeug>=1.0.1->tensorboard<2.16,>=2.15->tensorflow) (2.1.3)\n",
            "Requirement already satisfied: pyasn1<0.6.0,>=0.4.6 in /usr/local/lib/python3.10/dist-packages (from pyasn1-modules>=0.2.1->google-auth<3,>=1.6.3->tensorboard<2.16,>=2.15->tensorflow) (0.5.1)\n",
            "Requirement already satisfied: oauthlib>=3.0.0 in /usr/local/lib/python3.10/dist-packages (from requests-oauthlib>=0.7.0->google-auth-oauthlib<2,>=0.5->tensorboard<2.16,>=2.15->tensorflow) (3.2.2)\n",
            "Installing collected packages: tensorflow-estimator, keras, google-auth-oauthlib, tensorboard, tensorflow\n",
            "  Attempting uninstall: tensorflow-estimator\n",
            "    Found existing installation: tensorflow-estimator 2.12.0\n",
            "    Uninstalling tensorflow-estimator-2.12.0:\n",
            "      Successfully uninstalled tensorflow-estimator-2.12.0\n",
            "  Attempting uninstall: keras\n",
            "    Found existing installation: keras 2.12.0\n",
            "    Uninstalling keras-2.12.0:\n",
            "      Successfully uninstalled keras-2.12.0\n",
            "  Attempting uninstall: google-auth-oauthlib\n",
            "    Found existing installation: google-auth-oauthlib 0.4.6\n",
            "    Uninstalling google-auth-oauthlib-0.4.6:\n",
            "      Successfully uninstalled google-auth-oauthlib-0.4.6\n",
            "  Attempting uninstall: tensorboard\n",
            "    Found existing installation: tensorboard 2.12.0\n",
            "    Uninstalling tensorboard-2.12.0:\n",
            "      Successfully uninstalled tensorboard-2.12.0\n",
            "  Attempting uninstall: tensorflow\n",
            "    Found existing installation: tensorflow 2.12.0\n",
            "    Uninstalling tensorflow-2.12.0:\n",
            "      Successfully uninstalled tensorflow-2.12.0\n",
            "Successfully installed google-auth-oauthlib-1.2.0 keras-2.15.0 tensorboard-2.15.1 tensorflow-2.15.0.post1 tensorflow-estimator-2.15.0\n"
          ]
        }
      ],
      "source": [
        "# !pip install --upgrade tensorflow"
      ]
    },
    {
      "cell_type": "code",
      "execution_count": 2,
      "metadata": {
        "colab": {
          "base_uri": "https://localhost:8080/"
        },
        "id": "_yB2mf_rzkQH",
        "outputId": "34856783-ab21-40f1-c38f-519a96f16c14"
      },
      "outputs": [
        {
          "output_type": "stream",
          "name": "stdout",
          "text": [
            "deb https://packages.cloud.google.com/apt gcsfuse-jammy main\n",
            "  % Total    % Received % Xferd  Average Speed   Time    Time     Time  Current\n",
            "                                 Dload  Upload   Total   Spent    Left  Speed\n",
            "100  2659  100  2659    0     0   9240      0 --:--:-- --:--:-- --:--:--  9264\n",
            "Warning: apt-key is deprecated. Manage keyring files in trusted.gpg.d instead (see apt-key(8)).\n",
            "OK\n",
            "28 packages can be upgraded. Run 'apt list --upgradable' to see them.\n",
            "\u001b[1;33mW: \u001b[0mhttps://packages.cloud.google.com/apt/dists/gcsfuse-jammy/InRelease: Key is stored in legacy trusted.gpg keyring (/etc/apt/trusted.gpg), see the DEPRECATION section in apt-key(8) for details.\u001b[0m\n",
            "The following NEW packages will be installed:\n",
            "  gcsfuse\n",
            "0 upgraded, 1 newly installed, 0 to remove and 28 not upgraded.\n",
            "Need to get 5,413 kB of archives.\n",
            "After this operation, 0 B of additional disk space will be used.\n",
            "Selecting previously unselected package gcsfuse.\n",
            "(Reading database ... 121666 files and directories currently installed.)\n",
            "Preparing to unpack .../gcsfuse_1.3.0_amd64.deb ...\n",
            "Unpacking gcsfuse (1.3.0) ...\n",
            "Setting up gcsfuse (1.3.0) ...\n"
          ]
        }
      ],
      "source": [
        "# Authenticate.\n",
        "from google.colab import auth\n",
        "auth.authenticate_user()\n",
        "\n",
        "# Install Cloud Storage FUSE.\n",
        "!echo \"deb https://packages.cloud.google.com/apt gcsfuse-`lsb_release -c -s` main\" | sudo tee /etc/apt/sources.list.d/gcsfuse.list\n",
        "!curl https://packages.cloud.google.com/apt/doc/apt-key.gpg | sudo apt-key add -\n",
        "!apt -qq update && apt -qq install gcsfuse"
      ]
    },
    {
      "cell_type": "code",
      "execution_count": 3,
      "metadata": {
        "colab": {
          "base_uri": "https://localhost:8080/"
        },
        "id": "M2A5WJp8zkck",
        "outputId": "b34e7753-f69d-4361-f976-bd42b4457596"
      },
      "outputs": [
        {
          "output_type": "stream",
          "name": "stdout",
          "text": [
            "{\"time\":\"14/12/2023 10:56:46.806635\",\"severity\":\"INFO\",\"msg\":\"Start gcsfuse/1.3.0 (Go version go1.21.4) for app \\\"\\\" using mount point: /content/my-mmd\\n\"}\n"
          ]
        }
      ],
      "source": [
        "# Mount a Cloud Storage bucket or location, without the gs:// prefix.\n",
        "mount_path = \"my-mmd\"  # or a location like \"my-bucket/path/to/mount\"\n",
        "local_path = f\"/content/{mount_path}\"\n",
        "\n",
        "!mkdir -p {local_path}\n",
        "!gcsfuse --implicit-dirs {mount_path} {local_path}"
      ]
    },
    {
      "cell_type": "markdown",
      "metadata": {
        "id": "Asr1bC9UzknL"
      },
      "source": [
        "You can mount an entire bucket, or a path location within that bucket.\n",
        "The local path to mount it must exist."
      ]
    },
    {
      "cell_type": "code",
      "execution_count": 4,
      "metadata": {
        "colab": {
          "base_uri": "https://localhost:8080/"
        },
        "id": "u4LXoe3hzknM",
        "outputId": "da1ad5c4-8435-422e-d2f9-140cf0e17b41"
      },
      "outputs": [
        {
          "output_type": "stream",
          "name": "stdout",
          "text": [
            "total 0\n",
            "drwxr-xr-x 1 root root 0 Dec 14 22:56 batch_dataset\n",
            "drwxr-xr-x 1 root root 0 Dec 14 22:56 final-yr-proj\n",
            "drwxr-xr-x 1 root root 0 Dec 14 22:56 results\n",
            "drwxr-xr-x 1 root root 0 Dec 14 22:56 test_data\n",
            "drwxr-xr-x 1 root root 0 Dec 14 22:56 train_data\n",
            "drwxr-xr-x 1 root root 0 Dec 14 22:56 val_dataset\n"
          ]
        }
      ],
      "source": [
        "# Then you can access it like a local path.\n",
        "!ls -lh {local_path}"
      ]
    },
    {
      "cell_type": "markdown",
      "metadata": {
        "id": "F7TS1YsQLg93"
      },
      "source": [
        "# Loading data:"
      ]
    },
    {
      "cell_type": "code",
      "execution_count": 5,
      "metadata": {
        "id": "foZJTrl2bZGF"
      },
      "outputs": [],
      "source": [
        "# # Calculate the split indices\n",
        "# train_size = 625\n",
        "# print(train_size)\n",
        "# # Split the dataset\n",
        "\n",
        "# SEED = 42 # NOTE: with no seed, you overlap train and test!\n",
        "\n",
        "# train_data = batch_dataset.shuffle(1000,seed=SEED).take(train_size)\n",
        "# test_data = batch_dataset.shuffle(1000,seed=SEED).skip(train_size)"
      ]
    },
    {
      "cell_type": "code",
      "execution_count": 6,
      "metadata": {
        "colab": {
          "base_uri": "https://localhost:8080/"
        },
        "id": "Ia8XPp_5Q3VZ",
        "outputId": "b816f947-57e9-47c4-f0e1-e6c01248d6d0"
      },
      "outputs": [
        {
          "output_type": "stream",
          "name": "stderr",
          "text": [
            "WARNING:tensorflow:From <ipython-input-6-6e32f71f4dd5>:4: load (from tensorflow.python.data.experimental.ops.io) is deprecated and will be removed in a future version.\n",
            "Instructions for updating:\n",
            "Use `tf.data.Dataset.load(...)` instead.\n"
          ]
        },
        {
          "output_type": "stream",
          "name": "stdout",
          "text": [
            "[0, 0, 3, 3, 4, 3, 2, 0, 4, 4, 1, 0, 3, 1, 2, 2, 2, 3, 4, 0, 3, 1, 1, 3, 1, 3, 3, 2, 0, 0, 3, 4]\n"
          ]
        }
      ],
      "source": [
        "import tensorflow as tf\n",
        "import os\n",
        "# Load the dataset\n",
        "train_data = tf.data.experimental.load('gs://my-mmd/train_data')\n",
        "\n",
        "# Print the dataset\n",
        "for element,l in train_data:\n",
        "    print(l.numpy().tolist())\n",
        "    break"
      ]
    },
    {
      "cell_type": "code",
      "execution_count": 7,
      "metadata": {
        "colab": {
          "base_uri": "https://localhost:8080/"
        },
        "id": "7jBkmUJhRAti",
        "outputId": "a68c3b31-cbee-4c47-be30-948c7137008d"
      },
      "outputs": [
        {
          "output_type": "execute_result",
          "data": {
            "text/plain": [
              "[PhysicalDevice(name='/physical_device:CPU:0', device_type='CPU')]"
            ]
          },
          "metadata": {},
          "execution_count": 7
        }
      ],
      "source": [
        "tf.config.list_physical_devices()"
      ]
    },
    {
      "cell_type": "code",
      "execution_count": 8,
      "metadata": {
        "colab": {
          "base_uri": "https://localhost:8080/"
        },
        "id": "1fl8XRALRP9l",
        "outputId": "b0940231-ff6f-4dc9-e163-56e8eb5e29b4"
      },
      "outputs": [
        {
          "output_type": "stream",
          "name": "stderr",
          "text": [
            "WARNING:absl:Configuring coordination service type may not be effective because the context is already initialized.\n"
          ]
        },
        {
          "output_type": "stream",
          "name": "stdout",
          "text": [
            "All devices:  [LogicalDevice(name='/job:worker/replica:0/task:0/device:TPU:0', device_type='TPU'), LogicalDevice(name='/job:worker/replica:0/task:0/device:TPU:1', device_type='TPU'), LogicalDevice(name='/job:worker/replica:0/task:0/device:TPU:2', device_type='TPU'), LogicalDevice(name='/job:worker/replica:0/task:0/device:TPU:3', device_type='TPU'), LogicalDevice(name='/job:worker/replica:0/task:0/device:TPU:4', device_type='TPU'), LogicalDevice(name='/job:worker/replica:0/task:0/device:TPU:5', device_type='TPU'), LogicalDevice(name='/job:worker/replica:0/task:0/device:TPU:6', device_type='TPU'), LogicalDevice(name='/job:worker/replica:0/task:0/device:TPU:7', device_type='TPU')]\n"
          ]
        }
      ],
      "source": [
        "resolver = tf.distribute.cluster_resolver.TPUClusterResolver(tpu='grpc://' + os.environ['COLAB_TPU_ADDR'])\n",
        "tf.config.experimental_connect_to_cluster(resolver)\n",
        "tf.tpu.experimental.initialize_tpu_system(resolver)\n",
        "\n",
        "strategy = tf.distribute.TPUStrategy(resolver)\n",
        "\n",
        "# resolver = tf.distribute.cluster_resolver.TPUClusterResolver(tpu='')\n",
        "# tf.config.experimental_connect_to_cluster(resolver)\n",
        "# # This is the TPU initialization code that has to be at the beginning.\n",
        "# tf.tpu.experimental.initialize_tpu_system(resolver)\n",
        "print(\"All devices: \", tf.config.list_logical_devices('TPU'))\n"
      ]
    },
    {
      "cell_type": "code",
      "execution_count": 9,
      "metadata": {
        "id": "fe9ISkEhtVIq"
      },
      "outputs": [],
      "source": [
        "import tensorflow as tf\n",
        "import os\n",
        "# Define a callback to print metrics\n",
        "class PrintMetricsCallback(tf.keras.callbacks.Callback):\n",
        "    def on_epoch_end(self, epoch, logs=None):\n",
        "        print(f\"\\nEpoch {epoch+1}: {logs}\")\n",
        "        try:\n",
        "            print(h)\n",
        "        except:\n",
        "            pass\n",
        "# resolver = tf.distribute.cluster_resolver.TPUClusterResolver(tpu='grpc://' + os.environ['COLAB_TPU_ADDR'])\n",
        "# tf.config.experimental_connect_to_cluster(resolver)\n",
        "# tf.tpu.experimental.initialize_tpu_system(resolver)\n",
        "\n",
        "strategy = tf.distribute.TPUStrategy(resolver)\n",
        "# Train the model\n",
        "epochs = 10"
      ]
    },
    {
      "cell_type": "code",
      "execution_count": 10,
      "metadata": {
        "colab": {
          "base_uri": "https://localhost:8080/",
          "height": 0
        },
        "id": "QcFwhvcyS2El",
        "outputId": "636c4094-21ed-49eb-c203-a2f93a3478b9"
      },
      "outputs": [
        {
          "output_type": "execute_result",
          "data": {
            "text/plain": [
              "'2.15.0'"
            ],
            "application/vnd.google.colaboratory.intrinsic+json": {
              "type": "string"
            }
          },
          "metadata": {},
          "execution_count": 10
        }
      ],
      "source": [
        "tf.version.VERSION"
      ]
    },
    {
      "cell_type": "code",
      "execution_count": 11,
      "metadata": {
        "id": "wXgNeILrTWVs"
      },
      "outputs": [],
      "source": [
        "os.environ['TF_ENABLE_EAGER_CLIENT_STREAMING_ENQUEUE']='False'\n",
        "os.environ['TF_ENABLE_EAGER_CLIENT_STREAMING_ENQUEUE']='False'"
      ]
    },
    {
      "cell_type": "code",
      "execution_count": 12,
      "metadata": {
        "id": "tCOYRLJaTo3U"
      },
      "outputs": [],
      "source": [
        "import tensorflow as tf\n",
        "\n",
        "with strategy.scope():\n",
        "    test_data = tf.data.Dataset.load(\"gs://my-mmd/test_data\")\n",
        "    train_data = tf.data.Dataset.load(\"gs://my-mmd/train_data\")\n",
        "    val_dataset = tf.data.Dataset.load(\"gs://my-mmd/val_dataset\")"
      ]
    },
    {
      "cell_type": "code",
      "execution_count": 13,
      "metadata": {
        "colab": {
          "base_uri": "https://localhost:8080/"
        },
        "id": "HLUkaVF3ULmZ",
        "outputId": "e39bac01-797a-4941-b012-066b0710291d"
      },
      "outputs": [
        {
          "output_type": "execute_result",
          "data": {
            "text/plain": [
              "625"
            ]
          },
          "metadata": {},
          "execution_count": 13
        }
      ],
      "source": [
        "input_shape = (256,256,3)\n",
        "len(train_data)"
      ]
    },
    {
      "cell_type": "code",
      "execution_count": 13,
      "metadata": {
        "id": "-UmmRg7ZVuPL"
      },
      "outputs": [],
      "source": []
    },
    {
      "cell_type": "markdown",
      "metadata": {
        "id": "fUfzZBOCF9_v"
      },
      "source": [
        "# Defining the CustomNetSmall (1 attention layer) model:"
      ]
    },
    {
      "cell_type": "code",
      "execution_count": 14,
      "metadata": {
        "id": "cHcmZpg0FR4q"
      },
      "outputs": [],
      "source": [
        "def model_name_formatter(base_model_name):\n",
        "    result = ''\n",
        "    capitalize_next = True  # Flag to determine when to capitalize the character\n",
        "    for char in base_model_name:\n",
        "        if char.isdigit():\n",
        "            result += char\n",
        "            capitalize_next = True\n",
        "        elif char.isalpha():\n",
        "            if capitalize_next:\n",
        "                result += char.upper()\n",
        "                capitalize_next = False\n",
        "            else:\n",
        "                result += char\n",
        "        else:\n",
        "            result += char\n",
        "    return result.replace('net','Net')"
      ]
    },
    {
      "cell_type": "code",
      "source": [
        "import tensorflow as tf\n",
        "from tensorflow.keras import Input, Model\n",
        "from tensorflow.keras.layers import Dense, Dropout, GlobalAveragePooling1D, LayerNormalization, MultiHeadAttention, Reshape, Flatten, BatchNormalization\n",
        "from tensorflow.keras.applications.resnet50 import ResNet50\n",
        "\n",
        "# Define the input shape and number of classes\n",
        "input_shape = (256, 256, 3)\n",
        "num_classes = 5\n",
        "\n",
        "# Transformer Encoder Layer\n",
        "def transformer_encoder(inputs, head_size, num_heads, ff_dim, dropout=0):\n",
        "    # Normalization and Attention\n",
        "    x = LayerNormalization(epsilon=1e-6)(inputs)\n",
        "    x = MultiHeadAttention(key_dim=head_size, num_heads=num_heads, dropout=dropout)(x, x)\n",
        "    x = Dropout(dropout)(x)\n",
        "    res = tf.add(x, inputs)\n",
        "\n",
        "    # Feed Forward Part\n",
        "    x = LayerNormalization(epsilon=1e-6)(res)\n",
        "    x = Dense(ff_dim, activation=\"relu\")(x)\n",
        "    x = Dropout(dropout)(x)\n",
        "    x = Dense(inputs.shape[-1])(x)\n",
        "    return tf.add(x, res)\n",
        "\n",
        "# Building the Model\n",
        "def build_model(input_shape, num_classes):\n",
        "    inputs = Input(shape=input_shape)\n",
        "\n",
        "    # ResNet Base\n",
        "    base_model = ResNet50(include_top=False, weights='imagenet', input_tensor=inputs)\n",
        "    x = base_model.output\n",
        "    x = Flatten()(x)  # Flatten the output of the convolutions\n",
        "    x = Reshape((-1, x.shape[-1]))(x)  # Prepare for the Transformer\n",
        "\n",
        "    # Transformer Encoders\n",
        "    for _ in range(1):  # You can adjust the number of Transformer layers\n",
        "        x = transformer_encoder(x, head_size=64, num_heads=4, ff_dim=256, dropout=0.1)\n",
        "\n",
        "    # Global Average Pooling\n",
        "    x = GlobalAveragePooling1D()(x)\n",
        "\n",
        "    # Classification Head\n",
        "    for units in [1024, 512, 256]:  # You can adjust the size and number of Dense layers\n",
        "        x = Dense(units, activation='relu')(x)\n",
        "        x = Dropout(0.3)(x)\n",
        "        x = BatchNormalization()(x)\n",
        "\n",
        "    outputs = Dense(num_classes, activation='softmax')(x)\n",
        "\n",
        "    # Create and compile the model\n",
        "    model = Model(inputs, outputs)\n",
        "    model.compile(optimizer='adam', loss='sparse_categorical_crossentropy', metrics=['accuracy'])\n",
        "\n",
        "    return model"
      ],
      "metadata": {
        "id": "m1M8ax0CTs3p"
      },
      "execution_count": 15,
      "outputs": []
    },
    {
      "cell_type": "code",
      "source": [
        "import tensorflow as tf\n",
        "from tensorflow.keras.layers import Input, Conv2D, BatchNormalization, Activation, MaxPooling2D, GlobalAveragePooling2D, Dense, Dropout, Add, Flatten, Reshape, GlobalAveragePooling1D, LayerNormalization, MultiHeadAttention\n",
        "from tensorflow.keras.models import Model\n",
        "\n",
        "# Define the input shape and number of classes\n",
        "input_shape = (256, 256, 3)\n",
        "num_classes = 5\n",
        "\n",
        "# Transformer Encoder Layer\n",
        "def transformer_encoder(inputs, head_size, num_heads, ff_dim, dropout=0):\n",
        "    # Normalization and Attention\n",
        "    x = LayerNormalization(epsilon=1e-6)(inputs)\n",
        "    x = MultiHeadAttention(key_dim=head_size, num_heads=num_heads, dropout=dropout)(x, x)\n",
        "    x = Dropout(dropout)(x)\n",
        "    res = Add()([x, inputs])\n",
        "\n",
        "    # Feed Forward Part\n",
        "    x = LayerNormalization(epsilon=1e-6)(res)\n",
        "    x = Dense(ff_dim, activation=\"relu\")(x)\n",
        "    x = Dropout(dropout)(x)\n",
        "    x = Dense(inputs.shape[-1])(x)\n",
        "    return Add()([x, res])\n",
        "\n",
        "# CNN Block\n",
        "def conv_block(x, filters, kernel_size, strides=(1, 1), activation='relu'):\n",
        "    x = Conv2D(filters, kernel_size, strides=strides, padding='same')(x)\n",
        "    x = BatchNormalization()(x)\n",
        "    return Activation(activation)(x)\n",
        "\n",
        "# Residual Block\n",
        "def residual_block(x, filters, kernel_size, strides=(1, 1)):\n",
        "    shortcut = x\n",
        "    x = conv_block(x, filters, kernel_size, strides)\n",
        "    x = conv_block(x, filters, kernel_size, strides)\n",
        "    shortcut = Conv2D(filters, (1, 1), strides=strides, padding='same')(shortcut)\n",
        "    shortcut = BatchNormalization()(shortcut)\n",
        "    x = Add()([x, shortcut])\n",
        "    return Activation('relu')(x)\n",
        "\n",
        "# Custom Model\n",
        "def build_model(input_shape, num_classes):\n",
        "    inputs = Input(input_shape)\n",
        "\n",
        "    # Initial Convolutional Layers\n",
        "    x = conv_block(inputs, 64, (7, 7), strides=(2, 2))\n",
        "    x = MaxPooling2D((3, 3), strides=(2, 2))(x)\n",
        "\n",
        "    # Multiple Residual Blocks\n",
        "    for filters in [64, 128]:\n",
        "        x = residual_block(x, filters, (3, 3))\n",
        "        x = residual_block(x, filters, (3, 3))\n",
        "\n",
        "    # Flatten and reshape for transformer\n",
        "    x = Flatten()(x)\n",
        "    x = Reshape((-1, 64))(x)  # Reshape to (sequence_length, feature_dim)\n",
        "\n",
        "    # Multiple Transformer Encoders\n",
        "    for _ in range(2):  # Increase or decrease the range for depth\n",
        "        x = transformer_encoder(x, head_size=64, num_heads=8, ff_dim=2048, dropout=0.1)\n",
        "\n",
        "    # Global Average Pooling for sequence data\n",
        "    x = GlobalAveragePooling1D()(x)\n",
        "\n",
        "    # Dense Classifier\n",
        "    for units in [1024, 512, 256]:\n",
        "        x = Dense(units, activation='relu')(x)\n",
        "        x = Dropout(0.5)(x)\n",
        "        x = BatchNormalization()(x)\n",
        "\n",
        "    outputs = Dense(num_classes, activation='softmax')(x)\n",
        "\n",
        "    model = Model(inputs, outputs=x)\n",
        "    return model\n",
        "\n",
        "\n"
      ],
      "metadata": {
        "id": "8jqn37uDXHJC"
      },
      "execution_count": 16,
      "outputs": []
    },
    {
      "cell_type": "code",
      "execution_count": 17,
      "metadata": {
        "colab": {
          "base_uri": "https://localhost:8080/"
        },
        "id": "UfBztJcEF9_v",
        "outputId": "fbc78260-5768-4f25-a3e7-d8e71fe2bbb0"
      },
      "outputs": [
        {
          "output_type": "stream",
          "name": "stdout",
          "text": [
            "Model: \"LargeCustom\"\n",
            "__________________________________________________________________________________________________\n",
            " Layer (type)                Output Shape                 Param #   Connected to                  \n",
            "==================================================================================================\n",
            " input_1 (InputLayer)        [(None, 256, 256, 3)]        0         []                            \n",
            "                                                                                                  \n",
            " conv2d (Conv2D)             (None, 128, 128, 64)         9472      ['input_1[0][0]']             \n",
            "                                                                                                  \n",
            " batch_normalization (Batch  (None, 128, 128, 64)         256       ['conv2d[0][0]']              \n",
            " Normalization)                                                                                   \n",
            "                                                                                                  \n",
            " activation (Activation)     (None, 128, 128, 64)         0         ['batch_normalization[0][0]'] \n",
            "                                                                                                  \n",
            " max_pooling2d (MaxPooling2  (None, 63, 63, 64)           0         ['activation[0][0]']          \n",
            " D)                                                                                               \n",
            "                                                                                                  \n",
            " conv2d_1 (Conv2D)           (None, 63, 63, 64)           36928     ['max_pooling2d[0][0]']       \n",
            "                                                                                                  \n",
            " batch_normalization_1 (Bat  (None, 63, 63, 64)           256       ['conv2d_1[0][0]']            \n",
            " chNormalization)                                                                                 \n",
            "                                                                                                  \n",
            " activation_1 (Activation)   (None, 63, 63, 64)           0         ['batch_normalization_1[0][0]'\n",
            "                                                                    ]                             \n",
            "                                                                                                  \n",
            " conv2d_2 (Conv2D)           (None, 63, 63, 64)           36928     ['activation_1[0][0]']        \n",
            "                                                                                                  \n",
            " batch_normalization_2 (Bat  (None, 63, 63, 64)           256       ['conv2d_2[0][0]']            \n",
            " chNormalization)                                                                                 \n",
            "                                                                                                  \n",
            " conv2d_3 (Conv2D)           (None, 63, 63, 64)           4160      ['max_pooling2d[0][0]']       \n",
            "                                                                                                  \n",
            " activation_2 (Activation)   (None, 63, 63, 64)           0         ['batch_normalization_2[0][0]'\n",
            "                                                                    ]                             \n",
            "                                                                                                  \n",
            " batch_normalization_3 (Bat  (None, 63, 63, 64)           256       ['conv2d_3[0][0]']            \n",
            " chNormalization)                                                                                 \n",
            "                                                                                                  \n",
            " add (Add)                   (None, 63, 63, 64)           0         ['activation_2[0][0]',        \n",
            "                                                                     'batch_normalization_3[0][0]'\n",
            "                                                                    ]                             \n",
            "                                                                                                  \n",
            " activation_3 (Activation)   (None, 63, 63, 64)           0         ['add[0][0]']                 \n",
            "                                                                                                  \n",
            " conv2d_4 (Conv2D)           (None, 63, 63, 64)           36928     ['activation_3[0][0]']        \n",
            "                                                                                                  \n",
            " batch_normalization_4 (Bat  (None, 63, 63, 64)           256       ['conv2d_4[0][0]']            \n",
            " chNormalization)                                                                                 \n",
            "                                                                                                  \n",
            " activation_4 (Activation)   (None, 63, 63, 64)           0         ['batch_normalization_4[0][0]'\n",
            "                                                                    ]                             \n",
            "                                                                                                  \n",
            " conv2d_5 (Conv2D)           (None, 63, 63, 64)           36928     ['activation_4[0][0]']        \n",
            "                                                                                                  \n",
            " batch_normalization_5 (Bat  (None, 63, 63, 64)           256       ['conv2d_5[0][0]']            \n",
            " chNormalization)                                                                                 \n",
            "                                                                                                  \n",
            " conv2d_6 (Conv2D)           (None, 63, 63, 64)           4160      ['activation_3[0][0]']        \n",
            "                                                                                                  \n",
            " activation_5 (Activation)   (None, 63, 63, 64)           0         ['batch_normalization_5[0][0]'\n",
            "                                                                    ]                             \n",
            "                                                                                                  \n",
            " batch_normalization_6 (Bat  (None, 63, 63, 64)           256       ['conv2d_6[0][0]']            \n",
            " chNormalization)                                                                                 \n",
            "                                                                                                  \n",
            " add_1 (Add)                 (None, 63, 63, 64)           0         ['activation_5[0][0]',        \n",
            "                                                                     'batch_normalization_6[0][0]'\n",
            "                                                                    ]                             \n",
            "                                                                                                  \n",
            " activation_6 (Activation)   (None, 63, 63, 64)           0         ['add_1[0][0]']               \n",
            "                                                                                                  \n",
            " conv2d_7 (Conv2D)           (None, 63, 63, 128)          73856     ['activation_6[0][0]']        \n",
            "                                                                                                  \n",
            " batch_normalization_7 (Bat  (None, 63, 63, 128)          512       ['conv2d_7[0][0]']            \n",
            " chNormalization)                                                                                 \n",
            "                                                                                                  \n",
            " activation_7 (Activation)   (None, 63, 63, 128)          0         ['batch_normalization_7[0][0]'\n",
            "                                                                    ]                             \n",
            "                                                                                                  \n",
            " conv2d_8 (Conv2D)           (None, 63, 63, 128)          147584    ['activation_7[0][0]']        \n",
            "                                                                                                  \n",
            " batch_normalization_8 (Bat  (None, 63, 63, 128)          512       ['conv2d_8[0][0]']            \n",
            " chNormalization)                                                                                 \n",
            "                                                                                                  \n",
            " conv2d_9 (Conv2D)           (None, 63, 63, 128)          8320      ['activation_6[0][0]']        \n",
            "                                                                                                  \n",
            " activation_8 (Activation)   (None, 63, 63, 128)          0         ['batch_normalization_8[0][0]'\n",
            "                                                                    ]                             \n",
            "                                                                                                  \n",
            " batch_normalization_9 (Bat  (None, 63, 63, 128)          512       ['conv2d_9[0][0]']            \n",
            " chNormalization)                                                                                 \n",
            "                                                                                                  \n",
            " add_2 (Add)                 (None, 63, 63, 128)          0         ['activation_8[0][0]',        \n",
            "                                                                     'batch_normalization_9[0][0]'\n",
            "                                                                    ]                             \n",
            "                                                                                                  \n",
            " activation_9 (Activation)   (None, 63, 63, 128)          0         ['add_2[0][0]']               \n",
            "                                                                                                  \n",
            " conv2d_10 (Conv2D)          (None, 63, 63, 128)          147584    ['activation_9[0][0]']        \n",
            "                                                                                                  \n",
            " batch_normalization_10 (Ba  (None, 63, 63, 128)          512       ['conv2d_10[0][0]']           \n",
            " tchNormalization)                                                                                \n",
            "                                                                                                  \n",
            " activation_10 (Activation)  (None, 63, 63, 128)          0         ['batch_normalization_10[0][0]\n",
            "                                                                    ']                            \n",
            "                                                                                                  \n",
            " conv2d_11 (Conv2D)          (None, 63, 63, 128)          147584    ['activation_10[0][0]']       \n",
            "                                                                                                  \n",
            " batch_normalization_11 (Ba  (None, 63, 63, 128)          512       ['conv2d_11[0][0]']           \n",
            " tchNormalization)                                                                                \n",
            "                                                                                                  \n",
            " conv2d_12 (Conv2D)          (None, 63, 63, 128)          16512     ['activation_9[0][0]']        \n",
            "                                                                                                  \n",
            " activation_11 (Activation)  (None, 63, 63, 128)          0         ['batch_normalization_11[0][0]\n",
            "                                                                    ']                            \n",
            "                                                                                                  \n",
            " batch_normalization_12 (Ba  (None, 63, 63, 128)          512       ['conv2d_12[0][0]']           \n",
            " tchNormalization)                                                                                \n",
            "                                                                                                  \n",
            " add_3 (Add)                 (None, 63, 63, 128)          0         ['activation_11[0][0]',       \n",
            "                                                                     'batch_normalization_12[0][0]\n",
            "                                                                    ']                            \n",
            "                                                                                                  \n",
            " activation_12 (Activation)  (None, 63, 63, 128)          0         ['add_3[0][0]']               \n",
            "                                                                                                  \n",
            " flatten (Flatten)           (None, 508032)               0         ['activation_12[0][0]']       \n",
            "                                                                                                  \n",
            " reshape (Reshape)           (None, 7938, 64)             0         ['flatten[0][0]']             \n",
            "                                                                                                  \n",
            " layer_normalization (Layer  (None, 7938, 64)             128       ['reshape[0][0]']             \n",
            " Normalization)                                                                                   \n",
            "                                                                                                  \n",
            " multi_head_attention (Mult  (None, 7938, 64)             132672    ['layer_normalization[0][0]', \n",
            " iHeadAttention)                                                     'layer_normalization[0][0]'] \n",
            "                                                                                                  \n",
            " dropout (Dropout)           (None, 7938, 64)             0         ['multi_head_attention[0][0]']\n",
            "                                                                                                  \n",
            " add_4 (Add)                 (None, 7938, 64)             0         ['dropout[0][0]',             \n",
            "                                                                     'reshape[0][0]']             \n",
            "                                                                                                  \n",
            " layer_normalization_1 (Lay  (None, 7938, 64)             128       ['add_4[0][0]']               \n",
            " erNormalization)                                                                                 \n",
            "                                                                                                  \n",
            " dense (Dense)               (None, 7938, 2048)           133120    ['layer_normalization_1[0][0]'\n",
            "                                                                    ]                             \n",
            "                                                                                                  \n",
            " dropout_1 (Dropout)         (None, 7938, 2048)           0         ['dense[0][0]']               \n",
            "                                                                                                  \n",
            " dense_1 (Dense)             (None, 7938, 64)             131136    ['dropout_1[0][0]']           \n",
            "                                                                                                  \n",
            " add_5 (Add)                 (None, 7938, 64)             0         ['dense_1[0][0]',             \n",
            "                                                                     'add_4[0][0]']               \n",
            "                                                                                                  \n",
            " layer_normalization_2 (Lay  (None, 7938, 64)             128       ['add_5[0][0]']               \n",
            " erNormalization)                                                                                 \n",
            "                                                                                                  \n",
            " multi_head_attention_1 (Mu  (None, 7938, 64)             132672    ['layer_normalization_2[0][0]'\n",
            " ltiHeadAttention)                                                  , 'layer_normalization_2[0][0]\n",
            "                                                                    ']                            \n",
            "                                                                                                  \n",
            " dropout_2 (Dropout)         (None, 7938, 64)             0         ['multi_head_attention_1[0][0]\n",
            "                                                                    ']                            \n",
            "                                                                                                  \n",
            " add_6 (Add)                 (None, 7938, 64)             0         ['dropout_2[0][0]',           \n",
            "                                                                     'add_5[0][0]']               \n",
            "                                                                                                  \n",
            " layer_normalization_3 (Lay  (None, 7938, 64)             128       ['add_6[0][0]']               \n",
            " erNormalization)                                                                                 \n",
            "                                                                                                  \n",
            " dense_2 (Dense)             (None, 7938, 2048)           133120    ['layer_normalization_3[0][0]'\n",
            "                                                                    ]                             \n",
            "                                                                                                  \n",
            " dropout_3 (Dropout)         (None, 7938, 2048)           0         ['dense_2[0][0]']             \n",
            "                                                                                                  \n",
            " dense_3 (Dense)             (None, 7938, 64)             131136    ['dropout_3[0][0]']           \n",
            "                                                                                                  \n",
            " add_7 (Add)                 (None, 7938, 64)             0         ['dense_3[0][0]',             \n",
            "                                                                     'add_6[0][0]']               \n",
            "                                                                                                  \n",
            " global_average_pooling1d (  (None, 64)                   0         ['add_7[0][0]']               \n",
            " GlobalAveragePooling1D)                                                                          \n",
            "                                                                                                  \n",
            " dense_4 (Dense)             (None, 1024)                 66560     ['global_average_pooling1d[0][\n",
            "                                                                    0]']                          \n",
            "                                                                                                  \n",
            " dropout_4 (Dropout)         (None, 1024)                 0         ['dense_4[0][0]']             \n",
            "                                                                                                  \n",
            " batch_normalization_13 (Ba  (None, 1024)                 4096      ['dropout_4[0][0]']           \n",
            " tchNormalization)                                                                                \n",
            "                                                                                                  \n",
            " dense_5 (Dense)             (None, 512)                  524800    ['batch_normalization_13[0][0]\n",
            "                                                                    ']                            \n",
            "                                                                                                  \n",
            " dropout_5 (Dropout)         (None, 512)                  0         ['dense_5[0][0]']             \n",
            "                                                                                                  \n",
            " batch_normalization_14 (Ba  (None, 512)                  2048      ['dropout_5[0][0]']           \n",
            " tchNormalization)                                                                                \n",
            "                                                                                                  \n",
            " dense_6 (Dense)             (None, 256)                  131328    ['batch_normalization_14[0][0]\n",
            "                                                                    ']                            \n",
            "                                                                                                  \n",
            " dropout_6 (Dropout)         (None, 256)                  0         ['dense_6[0][0]']             \n",
            "                                                                                                  \n",
            " batch_normalization_15 (Ba  (None, 256)                  1024      ['dropout_6[0][0]']           \n",
            " tchNormalization)                                                                                \n",
            "                                                                                                  \n",
            "==================================================================================================\n",
            "Total params: 2236032 (8.53 MB)\n",
            "Trainable params: 2230016 (8.51 MB)\n",
            "Non-trainable params: 6016 (23.50 KB)\n",
            "__________________________________________________________________________________________________\n"
          ]
        }
      ],
      "source": [
        "import gc\n",
        "tf.keras.backend.clear_session()\n",
        "with strategy.scope():\n",
        "    gc.collect()\n",
        "    # MENTION MODEL HERE (If defining custom model using tf.keras.Sequential(...), make sure to change the model.name to an appropriate name using model._name = <NAME> :\n",
        "\n",
        "with strategy.scope():\n",
        "\n",
        "# Create and compile the model\n",
        "    model = build_model(input_shape, num_classes)\n",
        "    model.compile(optimizer='adam', loss='sparse_categorical_crossentropy', metrics=['accuracy'])\n",
        "\n",
        "    # Adding model name:\n",
        "    model._name =  model_name_formatter(\"LargeCustom\")\n",
        "\n",
        "    # Model Summary\n",
        "    model.summary()\n"
      ]
    },
    {
      "cell_type": "markdown",
      "metadata": {
        "id": "1SbBeXhDY8oU"
      },
      "source": [
        "# Training the CustomNetSmall (1 attention layer) Model:"
      ]
    },
    {
      "cell_type": "code",
      "execution_count": 18,
      "metadata": {
        "id": "grJrQBe2Y8op"
      },
      "outputs": [],
      "source": [
        "import tensorflow as tf\n",
        "\n",
        "class CustomEarlyStopping(tf.keras.callbacks.Callback):\n",
        "    def __init__(self, patience=5):\n",
        "        super(CustomEarlyStopping, self).__init__()\n",
        "        self.patience = patience\n",
        "        self.best_combined_metric = float('-inf')  # Initialize with a very small value\n",
        "        self.wait = 0  # Counter to track the number of epochs without improvement\n",
        "        self.epochs_before_stopping = 0\n",
        "        self.best_weights = None  # Variable to store the best weights\n",
        "\n",
        "    def on_epoch_end(self, epoch, logs=None):\n",
        "        if logs is None:\n",
        "            logs = {}\n",
        "\n",
        "        val_accuracy = logs.get('val_accuracy')\n",
        "        val_loss = logs.get('val_loss')\n",
        "\n",
        "        self.epochs_before_stopping += 1\n",
        "\n",
        "        if val_accuracy is None or val_loss is None:\n",
        "            print(\"Validation accuracy or validation loss is not found in logs. Cannot calculate custom metric.\")\n",
        "            return\n",
        "\n",
        "        combined_metric = val_accuracy / (val_loss ** 2)\n",
        "\n",
        "        if combined_metric > self.best_combined_metric:\n",
        "            self.best_combined_metric = combined_metric\n",
        "            self.wait = 0  # Reset the counter when a new best metric is found\n",
        "            self.best_weights = self.model.get_weights()  # Save the current best weights\n",
        "        else:\n",
        "            self.wait += 1\n",
        "            if self.wait >= self.patience:\n",
        "                print(f\"Stopping training as the combined metric didn't improve for {self.patience} epochs.\")\n",
        "                if self.best_weights is not None:\n",
        "                    print(\"Restoring best weights.\")\n",
        "                    self.model.set_weights(self.best_weights)  # Restore the best weights\n",
        "                self.model.stop_training = True\n"
      ]
    },
    {
      "cell_type": "code",
      "source": [
        "import os\n",
        "from tensorflow.python.profiler import profiler_client\n",
        "\n",
        "tpu_profile_service_address = os.environ['COLAB_TPU_ADDR'].replace('8470', '8466')\n",
        "print(profiler_client.monitor(tpu_profile_service_address, 100, 2))"
      ],
      "metadata": {
        "colab": {
          "base_uri": "https://localhost:8080/"
        },
        "id": "wOUrweI4Ud8h",
        "outputId": "49e595b3-02ed-4960-db44-931ddeaf4806"
      },
      "execution_count": 19,
      "outputs": [
        {
          "output_type": "stream",
          "name": "stdout",
          "text": [
            "  Timestamp: 22:57:26\n",
            "  TPU type: TPU v2\n",
            "  Utilization of TPU Matrix Units (higher is better): 0.000%\n",
            "\n",
            "\n"
          ]
        }
      ]
    },
    {
      "cell_type": "code",
      "execution_count": 20,
      "metadata": {
        "colab": {
          "base_uri": "https://localhost:8080/"
        },
        "id": "ydxPK70JY8oq",
        "outputId": "d8ab4b70-f3b1-4041-856c-2ee9c5f65a29"
      },
      "outputs": [
        {
          "output_type": "stream",
          "name": "stdout",
          "text": [
            "Model: \"LargeCustom\"\n",
            "__________________________________________________________________________________________________\n",
            " Layer (type)                Output Shape                 Param #   Connected to                  \n",
            "==================================================================================================\n",
            " input_1 (InputLayer)        [(None, 256, 256, 3)]        0         []                            \n",
            "                                                                                                  \n",
            " conv2d (Conv2D)             (None, 128, 128, 64)         9472      ['input_1[0][0]']             \n",
            "                                                                                                  \n",
            " batch_normalization (Batch  (None, 128, 128, 64)         256       ['conv2d[0][0]']              \n",
            " Normalization)                                                                                   \n",
            "                                                                                                  \n",
            " activation (Activation)     (None, 128, 128, 64)         0         ['batch_normalization[0][0]'] \n",
            "                                                                                                  \n",
            " max_pooling2d (MaxPooling2  (None, 63, 63, 64)           0         ['activation[0][0]']          \n",
            " D)                                                                                               \n",
            "                                                                                                  \n",
            " conv2d_1 (Conv2D)           (None, 63, 63, 64)           36928     ['max_pooling2d[0][0]']       \n",
            "                                                                                                  \n",
            " batch_normalization_1 (Bat  (None, 63, 63, 64)           256       ['conv2d_1[0][0]']            \n",
            " chNormalization)                                                                                 \n",
            "                                                                                                  \n",
            " activation_1 (Activation)   (None, 63, 63, 64)           0         ['batch_normalization_1[0][0]'\n",
            "                                                                    ]                             \n",
            "                                                                                                  \n",
            " conv2d_2 (Conv2D)           (None, 63, 63, 64)           36928     ['activation_1[0][0]']        \n",
            "                                                                                                  \n",
            " batch_normalization_2 (Bat  (None, 63, 63, 64)           256       ['conv2d_2[0][0]']            \n",
            " chNormalization)                                                                                 \n",
            "                                                                                                  \n",
            " conv2d_3 (Conv2D)           (None, 63, 63, 64)           4160      ['max_pooling2d[0][0]']       \n",
            "                                                                                                  \n",
            " activation_2 (Activation)   (None, 63, 63, 64)           0         ['batch_normalization_2[0][0]'\n",
            "                                                                    ]                             \n",
            "                                                                                                  \n",
            " batch_normalization_3 (Bat  (None, 63, 63, 64)           256       ['conv2d_3[0][0]']            \n",
            " chNormalization)                                                                                 \n",
            "                                                                                                  \n",
            " add (Add)                   (None, 63, 63, 64)           0         ['activation_2[0][0]',        \n",
            "                                                                     'batch_normalization_3[0][0]'\n",
            "                                                                    ]                             \n",
            "                                                                                                  \n",
            " activation_3 (Activation)   (None, 63, 63, 64)           0         ['add[0][0]']                 \n",
            "                                                                                                  \n",
            " conv2d_4 (Conv2D)           (None, 63, 63, 64)           36928     ['activation_3[0][0]']        \n",
            "                                                                                                  \n",
            " batch_normalization_4 (Bat  (None, 63, 63, 64)           256       ['conv2d_4[0][0]']            \n",
            " chNormalization)                                                                                 \n",
            "                                                                                                  \n",
            " activation_4 (Activation)   (None, 63, 63, 64)           0         ['batch_normalization_4[0][0]'\n",
            "                                                                    ]                             \n",
            "                                                                                                  \n",
            " conv2d_5 (Conv2D)           (None, 63, 63, 64)           36928     ['activation_4[0][0]']        \n",
            "                                                                                                  \n",
            " batch_normalization_5 (Bat  (None, 63, 63, 64)           256       ['conv2d_5[0][0]']            \n",
            " chNormalization)                                                                                 \n",
            "                                                                                                  \n",
            " conv2d_6 (Conv2D)           (None, 63, 63, 64)           4160      ['activation_3[0][0]']        \n",
            "                                                                                                  \n",
            " activation_5 (Activation)   (None, 63, 63, 64)           0         ['batch_normalization_5[0][0]'\n",
            "                                                                    ]                             \n",
            "                                                                                                  \n",
            " batch_normalization_6 (Bat  (None, 63, 63, 64)           256       ['conv2d_6[0][0]']            \n",
            " chNormalization)                                                                                 \n",
            "                                                                                                  \n",
            " add_1 (Add)                 (None, 63, 63, 64)           0         ['activation_5[0][0]',        \n",
            "                                                                     'batch_normalization_6[0][0]'\n",
            "                                                                    ]                             \n",
            "                                                                                                  \n",
            " activation_6 (Activation)   (None, 63, 63, 64)           0         ['add_1[0][0]']               \n",
            "                                                                                                  \n",
            " conv2d_7 (Conv2D)           (None, 63, 63, 128)          73856     ['activation_6[0][0]']        \n",
            "                                                                                                  \n",
            " batch_normalization_7 (Bat  (None, 63, 63, 128)          512       ['conv2d_7[0][0]']            \n",
            " chNormalization)                                                                                 \n",
            "                                                                                                  \n",
            " activation_7 (Activation)   (None, 63, 63, 128)          0         ['batch_normalization_7[0][0]'\n",
            "                                                                    ]                             \n",
            "                                                                                                  \n",
            " conv2d_8 (Conv2D)           (None, 63, 63, 128)          147584    ['activation_7[0][0]']        \n",
            "                                                                                                  \n",
            " batch_normalization_8 (Bat  (None, 63, 63, 128)          512       ['conv2d_8[0][0]']            \n",
            " chNormalization)                                                                                 \n",
            "                                                                                                  \n",
            " conv2d_9 (Conv2D)           (None, 63, 63, 128)          8320      ['activation_6[0][0]']        \n",
            "                                                                                                  \n",
            " activation_8 (Activation)   (None, 63, 63, 128)          0         ['batch_normalization_8[0][0]'\n",
            "                                                                    ]                             \n",
            "                                                                                                  \n",
            " batch_normalization_9 (Bat  (None, 63, 63, 128)          512       ['conv2d_9[0][0]']            \n",
            " chNormalization)                                                                                 \n",
            "                                                                                                  \n",
            " add_2 (Add)                 (None, 63, 63, 128)          0         ['activation_8[0][0]',        \n",
            "                                                                     'batch_normalization_9[0][0]'\n",
            "                                                                    ]                             \n",
            "                                                                                                  \n",
            " activation_9 (Activation)   (None, 63, 63, 128)          0         ['add_2[0][0]']               \n",
            "                                                                                                  \n",
            " conv2d_10 (Conv2D)          (None, 63, 63, 128)          147584    ['activation_9[0][0]']        \n",
            "                                                                                                  \n",
            " batch_normalization_10 (Ba  (None, 63, 63, 128)          512       ['conv2d_10[0][0]']           \n",
            " tchNormalization)                                                                                \n",
            "                                                                                                  \n",
            " activation_10 (Activation)  (None, 63, 63, 128)          0         ['batch_normalization_10[0][0]\n",
            "                                                                    ']                            \n",
            "                                                                                                  \n",
            " conv2d_11 (Conv2D)          (None, 63, 63, 128)          147584    ['activation_10[0][0]']       \n",
            "                                                                                                  \n",
            " batch_normalization_11 (Ba  (None, 63, 63, 128)          512       ['conv2d_11[0][0]']           \n",
            " tchNormalization)                                                                                \n",
            "                                                                                                  \n",
            " conv2d_12 (Conv2D)          (None, 63, 63, 128)          16512     ['activation_9[0][0]']        \n",
            "                                                                                                  \n",
            " activation_11 (Activation)  (None, 63, 63, 128)          0         ['batch_normalization_11[0][0]\n",
            "                                                                    ']                            \n",
            "                                                                                                  \n",
            " batch_normalization_12 (Ba  (None, 63, 63, 128)          512       ['conv2d_12[0][0]']           \n",
            " tchNormalization)                                                                                \n",
            "                                                                                                  \n",
            " add_3 (Add)                 (None, 63, 63, 128)          0         ['activation_11[0][0]',       \n",
            "                                                                     'batch_normalization_12[0][0]\n",
            "                                                                    ']                            \n",
            "                                                                                                  \n",
            " activation_12 (Activation)  (None, 63, 63, 128)          0         ['add_3[0][0]']               \n",
            "                                                                                                  \n",
            " flatten (Flatten)           (None, 508032)               0         ['activation_12[0][0]']       \n",
            "                                                                                                  \n",
            " reshape (Reshape)           (None, 7938, 64)             0         ['flatten[0][0]']             \n",
            "                                                                                                  \n",
            " layer_normalization (Layer  (None, 7938, 64)             128       ['reshape[0][0]']             \n",
            " Normalization)                                                                                   \n",
            "                                                                                                  \n",
            " multi_head_attention (Mult  (None, 7938, 64)             132672    ['layer_normalization[0][0]', \n",
            " iHeadAttention)                                                     'layer_normalization[0][0]'] \n",
            "                                                                                                  \n",
            " dropout (Dropout)           (None, 7938, 64)             0         ['multi_head_attention[0][0]']\n",
            "                                                                                                  \n",
            " add_4 (Add)                 (None, 7938, 64)             0         ['dropout[0][0]',             \n",
            "                                                                     'reshape[0][0]']             \n",
            "                                                                                                  \n",
            " layer_normalization_1 (Lay  (None, 7938, 64)             128       ['add_4[0][0]']               \n",
            " erNormalization)                                                                                 \n",
            "                                                                                                  \n",
            " dense (Dense)               (None, 7938, 2048)           133120    ['layer_normalization_1[0][0]'\n",
            "                                                                    ]                             \n",
            "                                                                                                  \n",
            " dropout_1 (Dropout)         (None, 7938, 2048)           0         ['dense[0][0]']               \n",
            "                                                                                                  \n",
            " dense_1 (Dense)             (None, 7938, 64)             131136    ['dropout_1[0][0]']           \n",
            "                                                                                                  \n",
            " add_5 (Add)                 (None, 7938, 64)             0         ['dense_1[0][0]',             \n",
            "                                                                     'add_4[0][0]']               \n",
            "                                                                                                  \n",
            " layer_normalization_2 (Lay  (None, 7938, 64)             128       ['add_5[0][0]']               \n",
            " erNormalization)                                                                                 \n",
            "                                                                                                  \n",
            " multi_head_attention_1 (Mu  (None, 7938, 64)             132672    ['layer_normalization_2[0][0]'\n",
            " ltiHeadAttention)                                                  , 'layer_normalization_2[0][0]\n",
            "                                                                    ']                            \n",
            "                                                                                                  \n",
            " dropout_2 (Dropout)         (None, 7938, 64)             0         ['multi_head_attention_1[0][0]\n",
            "                                                                    ']                            \n",
            "                                                                                                  \n",
            " add_6 (Add)                 (None, 7938, 64)             0         ['dropout_2[0][0]',           \n",
            "                                                                     'add_5[0][0]']               \n",
            "                                                                                                  \n",
            " layer_normalization_3 (Lay  (None, 7938, 64)             128       ['add_6[0][0]']               \n",
            " erNormalization)                                                                                 \n",
            "                                                                                                  \n",
            " dense_2 (Dense)             (None, 7938, 2048)           133120    ['layer_normalization_3[0][0]'\n",
            "                                                                    ]                             \n",
            "                                                                                                  \n",
            " dropout_3 (Dropout)         (None, 7938, 2048)           0         ['dense_2[0][0]']             \n",
            "                                                                                                  \n",
            " dense_3 (Dense)             (None, 7938, 64)             131136    ['dropout_3[0][0]']           \n",
            "                                                                                                  \n",
            " add_7 (Add)                 (None, 7938, 64)             0         ['dense_3[0][0]',             \n",
            "                                                                     'add_6[0][0]']               \n",
            "                                                                                                  \n",
            " global_average_pooling1d (  (None, 64)                   0         ['add_7[0][0]']               \n",
            " GlobalAveragePooling1D)                                                                          \n",
            "                                                                                                  \n",
            " dense_4 (Dense)             (None, 1024)                 66560     ['global_average_pooling1d[0][\n",
            "                                                                    0]']                          \n",
            "                                                                                                  \n",
            " dropout_4 (Dropout)         (None, 1024)                 0         ['dense_4[0][0]']             \n",
            "                                                                                                  \n",
            " batch_normalization_13 (Ba  (None, 1024)                 4096      ['dropout_4[0][0]']           \n",
            " tchNormalization)                                                                                \n",
            "                                                                                                  \n",
            " dense_5 (Dense)             (None, 512)                  524800    ['batch_normalization_13[0][0]\n",
            "                                                                    ']                            \n",
            "                                                                                                  \n",
            " dropout_5 (Dropout)         (None, 512)                  0         ['dense_5[0][0]']             \n",
            "                                                                                                  \n",
            " batch_normalization_14 (Ba  (None, 512)                  2048      ['dropout_5[0][0]']           \n",
            " tchNormalization)                                                                                \n",
            "                                                                                                  \n",
            " dense_6 (Dense)             (None, 256)                  131328    ['batch_normalization_14[0][0]\n",
            "                                                                    ']                            \n",
            "                                                                                                  \n",
            " dropout_6 (Dropout)         (None, 256)                  0         ['dense_6[0][0]']             \n",
            "                                                                                                  \n",
            " batch_normalization_15 (Ba  (None, 256)                  1024      ['dropout_6[0][0]']           \n",
            " tchNormalization)                                                                                \n",
            "                                                                                                  \n",
            "==================================================================================================\n",
            "Total params: 2236032 (8.53 MB)\n",
            "Trainable params: 2230016 (8.51 MB)\n",
            "Non-trainable params: 6016 (23.50 KB)\n",
            "__________________________________________________________________________________________________\n"
          ]
        }
      ],
      "source": [
        "model.summary()"
      ]
    },
    {
      "cell_type": "code",
      "execution_count": 22,
      "metadata": {
        "colab": {
          "base_uri": "https://localhost:8080/",
          "height": 459
        },
        "id": "mLUdDVmjY8oq",
        "outputId": "ab6d02e7-28c5-46cd-bd35-9fc4e53545f2"
      },
      "outputs": [
        {
          "output_type": "stream",
          "name": "stdout",
          "text": [
            "Epoch 1/500\n"
          ]
        },
        {
          "output_type": "error",
          "ename": "ResourceExhaustedError",
          "evalue": "ignored",
          "traceback": [
            "\u001b[0;31m---------------------------------------------------------------------------\u001b[0m",
            "\u001b[0;31mResourceExhaustedError\u001b[0m                    Traceback (most recent call last)",
            "\u001b[0;32m<ipython-input-22-50ebf25967ad>\u001b[0m in \u001b[0;36m<cell line: 1>\u001b[0;34m()\u001b[0m\n\u001b[1;32m      2\u001b[0m     \u001b[0mearlyStopping\u001b[0m \u001b[0;34m=\u001b[0m \u001b[0mCustomEarlyStopping\u001b[0m\u001b[0;34m(\u001b[0m\u001b[0mpatience\u001b[0m\u001b[0;34m=\u001b[0m\u001b[0;36m30\u001b[0m\u001b[0;34m)\u001b[0m\u001b[0;34m\u001b[0m\u001b[0;34m\u001b[0m\u001b[0m\n\u001b[1;32m      3\u001b[0m     \u001b[0;31m# Train the model\u001b[0m\u001b[0;34m\u001b[0m\u001b[0;34m\u001b[0m\u001b[0m\n\u001b[0;32m----> 4\u001b[0;31m     h = model.fit(train_data,\n\u001b[0m\u001b[1;32m      5\u001b[0m                   \u001b[0mepochs\u001b[0m\u001b[0;34m=\u001b[0m\u001b[0;36m500\u001b[0m\u001b[0;34m,\u001b[0m\u001b[0;34m\u001b[0m\u001b[0;34m\u001b[0m\u001b[0m\n\u001b[1;32m      6\u001b[0m                   \u001b[0mvalidation_data\u001b[0m\u001b[0;34m=\u001b[0m\u001b[0mval_dataset\u001b[0m\u001b[0;34m,\u001b[0m\u001b[0;34m\u001b[0m\u001b[0;34m\u001b[0m\u001b[0m\n",
            "\u001b[0;32m/usr/local/lib/python3.10/dist-packages/keras/src/utils/traceback_utils.py\u001b[0m in \u001b[0;36merror_handler\u001b[0;34m(*args, **kwargs)\u001b[0m\n\u001b[1;32m     68\u001b[0m             \u001b[0;31m# To get the full stack trace, call:\u001b[0m\u001b[0;34m\u001b[0m\u001b[0;34m\u001b[0m\u001b[0m\n\u001b[1;32m     69\u001b[0m             \u001b[0;31m# `tf.debugging.disable_traceback_filtering()`\u001b[0m\u001b[0;34m\u001b[0m\u001b[0;34m\u001b[0m\u001b[0m\n\u001b[0;32m---> 70\u001b[0;31m             \u001b[0;32mraise\u001b[0m \u001b[0me\u001b[0m\u001b[0;34m.\u001b[0m\u001b[0mwith_traceback\u001b[0m\u001b[0;34m(\u001b[0m\u001b[0mfiltered_tb\u001b[0m\u001b[0;34m)\u001b[0m \u001b[0;32mfrom\u001b[0m \u001b[0;32mNone\u001b[0m\u001b[0;34m\u001b[0m\u001b[0;34m\u001b[0m\u001b[0m\n\u001b[0m\u001b[1;32m     71\u001b[0m         \u001b[0;32mfinally\u001b[0m\u001b[0;34m:\u001b[0m\u001b[0;34m\u001b[0m\u001b[0;34m\u001b[0m\u001b[0m\n\u001b[1;32m     72\u001b[0m             \u001b[0;32mdel\u001b[0m \u001b[0mfiltered_tb\u001b[0m\u001b[0;34m\u001b[0m\u001b[0;34m\u001b[0m\u001b[0m\n",
            "\u001b[0;32m/usr/local/lib/python3.10/dist-packages/tensorflow/python/eager/execute.py\u001b[0m in \u001b[0;36mquick_execute\u001b[0;34m(op_name, num_outputs, inputs, attrs, ctx, name)\u001b[0m\n\u001b[1;32m     51\u001b[0m   \u001b[0;32mtry\u001b[0m\u001b[0;34m:\u001b[0m\u001b[0;34m\u001b[0m\u001b[0;34m\u001b[0m\u001b[0m\n\u001b[1;32m     52\u001b[0m     \u001b[0mctx\u001b[0m\u001b[0;34m.\u001b[0m\u001b[0mensure_initialized\u001b[0m\u001b[0;34m(\u001b[0m\u001b[0;34m)\u001b[0m\u001b[0;34m\u001b[0m\u001b[0;34m\u001b[0m\u001b[0m\n\u001b[0;32m---> 53\u001b[0;31m     tensors = pywrap_tfe.TFE_Py_Execute(ctx._handle, device_name, op_name,\n\u001b[0m\u001b[1;32m     54\u001b[0m                                         inputs, attrs, num_outputs)\n\u001b[1;32m     55\u001b[0m   \u001b[0;32mexcept\u001b[0m \u001b[0mcore\u001b[0m\u001b[0;34m.\u001b[0m\u001b[0m_NotOkStatusException\u001b[0m \u001b[0;32mas\u001b[0m \u001b[0me\u001b[0m\u001b[0;34m:\u001b[0m\u001b[0;34m\u001b[0m\u001b[0;34m\u001b[0m\u001b[0m\n",
            "\u001b[0;31mResourceExhaustedError\u001b[0m: received trailing metadata size exceeds limit\nAdditional GRPC error information from remote target /job:worker/replica:0/task:0 while calling /tensorflow.eager.EagerService/Enqueue:\n:{\"created\":\"@1702595382.609735283\",\"description\":\"Error received from peer ipv4:10.93.241.18:8470\",\"file\":\"external/com_github_grpc_grpc/src/core/lib/surface/call.cc\",\"file_line\":1056,\"grpc_message\":\"received trailing metadata size exceeds limit\",\"grpc_status\":8} [Op:__inference_train_function_23832]"
          ]
        }
      ],
      "source": [
        "\n",
        "with strategy.scope():\n",
        "    earlyStopping = CustomEarlyStopping(patience=30)\n",
        "    # Train the model\n",
        "    h = model.fit(train_data,\n",
        "                  epochs=500,\n",
        "                  validation_data=val_dataset,\n",
        "                  callbacks=[\n",
        "                      # tboard_callback,\n",
        "                      PrintMetricsCallback(),\n",
        "                      earlyStopping\n",
        "                  #     EpochModelCheckpoint(\"./att_model_checkpoints/epoch{epoch:02d}\", frequency=1)\n",
        "                  ]\n",
        "              )\n"
      ]
    },
    {
      "cell_type": "markdown",
      "metadata": {
        "id": "Hd2Fu4crY8oq"
      },
      "source": [
        "# Evaluating the CustomNetSmall (1 attention layer) results:"
      ]
    },
    {
      "cell_type": "code",
      "execution_count": null,
      "metadata": {
        "id": "2OlQiaR-Y8or"
      },
      "outputs": [],
      "source": [
        "with strategy.scope():\n",
        "\n",
        "    train_loss, train_accuracy = model.evaluate(train_data)\n",
        "    print(f'Train accuracy: {train_accuracy}')"
      ]
    },
    {
      "cell_type": "code",
      "execution_count": null,
      "metadata": {
        "id": "OtfixwzzY8or"
      },
      "outputs": [],
      "source": [
        "with strategy.scope():\n",
        "\n",
        "    val_loss, val_accuracy = model.evaluate(val_dataset)\n",
        "    print(f'Validation accuracy: {val_accuracy}')"
      ]
    },
    {
      "cell_type": "code",
      "execution_count": null,
      "metadata": {
        "id": "bjQQz3oZY8or"
      },
      "outputs": [],
      "source": [
        "with strategy.scope():\n",
        "\n",
        "    test_loss, test_accuracy = model.evaluate(test_data)\n",
        "    print(f'Test accuracy: {test_accuracy}')"
      ]
    },
    {
      "cell_type": "code",
      "execution_count": null,
      "metadata": {
        "id": "rwACP6cgY8or"
      },
      "outputs": [],
      "source": [
        "from sklearn.metrics import classification_report, confusion_matrix\n",
        "with strategy.scope():\n",
        "    y_true = []\n",
        "    y_pred = []\n",
        "\n",
        "    for i,features in test_data:\n",
        "        images, labels = i,features\n",
        "        predictions = model.predict(images, verbose=0)\n",
        "        y_true.extend(labels.numpy())\n",
        "        y_pred.extend(tf.argmax(predictions, axis=1).numpy())\n",
        "\n",
        "    # Compute the metrics\n",
        "    accuracy = sum([1 for true, pred in zip(y_true, y_pred) if true == pred]) / len(y_true)\n",
        "    loss = model.evaluate(test_data)\n",
        "    classification_report = classification_report(y_true, y_pred)\n",
        "    confusion_mat = confusion_matrix(y_true, y_pred)\n",
        "\n",
        "    print(\"Accuracy:\", accuracy)\n",
        "    print(\"Loss:\", loss)"
      ]
    },
    {
      "cell_type": "code",
      "execution_count": null,
      "metadata": {
        "id": "pUG6_iFTY8or"
      },
      "outputs": [],
      "source": [
        "with strategy.scope():\n",
        "    print(\"Classification Report:\\n\", classification_report)"
      ]
    },
    {
      "cell_type": "code",
      "execution_count": null,
      "metadata": {
        "id": "v2i7dsreY8os"
      },
      "outputs": [],
      "source": [
        "with strategy.scope():\n",
        "    print(\"Confusion Matrix:\\n\", confusion_mat)"
      ]
    },
    {
      "cell_type": "code",
      "execution_count": null,
      "metadata": {
        "id": "C6x4XeeCY8os"
      },
      "outputs": [],
      "source": [
        "import seaborn as sns\n",
        "with strategy.scope():\n",
        "    sns.heatmap(confusion_mat, square=True, annot=True, cmap='Blues', fmt='d', cbar=False)"
      ]
    },
    {
      "cell_type": "code",
      "execution_count": null,
      "metadata": {
        "id": "wAPHsGOwY8os"
      },
      "outputs": [],
      "source": [
        "with strategy.scope():\n",
        "\n",
        "    from sklearn.metrics import classification_report\n",
        "    import pandas as pd\n",
        "\n",
        "    clf_report = classification_report(y_true, y_pred,\n",
        "                                      labels=range(5),\n",
        "                                      target_names=range(5),\n",
        "                                      output_dict=True)\n",
        "\n",
        "    sns.heatmap(pd.DataFrame(clf_report).iloc[:-1, :].T, annot=True)"
      ]
    },
    {
      "cell_type": "code",
      "execution_count": null,
      "metadata": {
        "id": "YF62yr6JY8os"
      },
      "outputs": [],
      "source": [
        "with strategy.scope():\n",
        "    import matplotlib.pyplot as plt\n",
        "\n",
        "    fig, axs = plt.subplots(2, 2, figsize=(12, 8))\n",
        "\n",
        "    # Plot Loss\n",
        "    y_loss = h.history[\"loss\"]\n",
        "    axs[0, 0].plot(y_loss, color='blue', label='Training Loss')\n",
        "    axs[0, 0].set_title('Loss')\n",
        "    axs[0, 0].set_xlabel('Epochs')\n",
        "    axs[0, 0].set_ylabel('Loss')\n",
        "    axs[0, 0].grid(True)\n",
        "    axs[0, 0].legend()\n",
        "\n",
        "    # Plot Accuracy\n",
        "    y_accuracy = h.history[\"accuracy\"]\n",
        "    axs[0, 1].plot(y_accuracy, color='orange', label='Training Accuracy')\n",
        "    axs[0, 1].set_title('Accuracy')\n",
        "    axs[0, 1].set_xlabel('Epochs')\n",
        "    axs[0, 1].set_ylabel('Accuracy')\n",
        "    axs[0, 1].grid(True)\n",
        "    axs[0, 1].legend()\n",
        "\n",
        "    # Plot Validation Accuracy\n",
        "    y_val_accuracy = h.history[\"val_accuracy\"]\n",
        "    axs[1, 0].plot(y_val_accuracy, color='green', label='Validation Accuracy')\n",
        "    axs[1, 0].set_title('Validation Accuracy')\n",
        "    axs[1, 0].set_xlabel('Epochs')\n",
        "    axs[1, 0].set_ylabel('Accuracy')\n",
        "    axs[1, 0].grid(True)\n",
        "    axs[1, 0].legend()\n",
        "\n",
        "    # Plot Validation Loss\n",
        "    y_val_loss = h.history[\"val_loss\"]\n",
        "    axs[1, 1].plot(y_val_loss, color='red', label='Validation Loss')\n",
        "    axs[1, 1].set_title('Validation Loss')\n",
        "    axs[1, 1].set_xlabel('Epochs')\n",
        "    axs[1, 1].set_ylabel('Loss')\n",
        "    axs[1, 1].grid(True)\n",
        "    axs[1, 1].legend()\n",
        "\n",
        "    plt.tight_layout()\n",
        "    plt.show()\n"
      ]
    },
    {
      "cell_type": "code",
      "execution_count": null,
      "metadata": {
        "id": "J3wq3wAvY8ot"
      },
      "outputs": [],
      "source": [
        "with strategy.scope():\n",
        "    import matplotlib.pyplot as plt\n",
        "\n",
        "    fig, axs = plt.subplots(2, 2, figsize=(12, 8))\n",
        "\n",
        "    # Plot Loss\n",
        "    y_loss = h.history[\"loss\"]\n",
        "    axs[0, 0].plot(y_loss)\n",
        "    axs[0, 0].set_title('Loss')\n",
        "\n",
        "    # Plot Accuracy\n",
        "    y_accuracy = h.history[\"accuracy\"]\n",
        "    axs[0, 1].plot(y_accuracy)\n",
        "    axs[0, 1].set_title('Accuracy')\n",
        "\n",
        "    # Plot Validation Accuracy\n",
        "    y_val_accuracy = h.history[\"val_accuracy\"]\n",
        "    axs[1, 0].plot(y_val_accuracy)\n",
        "    axs[1, 0].set_title('Validation Accuracy')\n",
        "\n",
        "    # Plot Validation Loss\n",
        "    y_val_loss = h.history[\"val_loss\"]\n",
        "    axs[1, 1].plot(y_val_loss)\n",
        "    axs[1, 1].set_title('Validation Loss')\n",
        "\n",
        "    plt.tight_layout()\n",
        "    plt.show()\n"
      ]
    },
    {
      "cell_type": "code",
      "execution_count": null,
      "metadata": {
        "id": "9Ne0LuT8Y8ot"
      },
      "outputs": [],
      "source": [
        "with strategy.scope():\n",
        "\n",
        "    import matplotlib.pyplot as plt\n",
        "\n",
        "    y = h.history[\"loss\"]\n",
        "    plt.plot(y)\n",
        "    plt.title(\"Loss\")\n",
        "    plt.show()"
      ]
    },
    {
      "cell_type": "code",
      "execution_count": null,
      "metadata": {
        "id": "7KMZ8JS9Y8ou"
      },
      "outputs": [],
      "source": [
        "with strategy.scope():\n",
        "\n",
        "    import matplotlib.pyplot as plt\n",
        "\n",
        "    y = h.history[\"accuracy\"]\n",
        "    plt.plot(y)\n",
        "    plt.title(\"Accuracy\")\n",
        "    plt.show()"
      ]
    },
    {
      "cell_type": "code",
      "execution_count": null,
      "metadata": {
        "id": "pRq4bZkYY8ou"
      },
      "outputs": [],
      "source": [
        "with strategy.scope():\n",
        "\n",
        "    import matplotlib.pyplot as plt\n",
        "\n",
        "    y = h.history[\"val_accuracy\"]\n",
        "    plt.plot(y)\n",
        "    plt.title(\"Validation Accuracy\")\n",
        "    plt.show()"
      ]
    },
    {
      "cell_type": "code",
      "execution_count": null,
      "metadata": {
        "id": "QbetctEpY8ou"
      },
      "outputs": [],
      "source": [
        "with strategy.scope():\n",
        "\n",
        "    import matplotlib.pyplot as plt\n",
        "\n",
        "    y = h.history[\"val_loss\"]\n",
        "    plt.plot(y)\n",
        "    plt.title(\"Validation Loss\")\n",
        "    plt.show()"
      ]
    },
    {
      "cell_type": "markdown",
      "metadata": {
        "id": "6PraZ80Db99q"
      },
      "source": [
        "# Sending CustomNetSmall (1 attention layer) results to GCS:"
      ]
    },
    {
      "cell_type": "code",
      "execution_count": null,
      "metadata": {
        "id": "yprDqNNOY8ou"
      },
      "outputs": [],
      "source": [
        "df = pd.DataFrame(h.history)\n",
        "df"
      ]
    },
    {
      "cell_type": "code",
      "execution_count": null,
      "metadata": {
        "id": "HFgtu7LUY8ou"
      },
      "outputs": [],
      "source": [
        "save_locally = tf.saved_model.SaveOptions(experimental_io_device='/job:localhost')\n",
        "try:\n",
        "    f1 = clf_report['weighted avg']['f1-score']\n",
        "    x = \"trainable\" if base_model.trainable else \"not_trainable\"\n",
        "    df.to_csv(f\"/content/my-mmd/results/tpu/{model.name}_base_model_{x}_{f1}_f1_results.csv\", index=False)\n",
        "    model.save(f'/content/my-mmd/results/tpu/models/{model.name}_base_model_{x}_{f1}_f1.h5', options=save_locally)\n",
        "except:\n",
        "    df.to_csv(f\"/content/my-mmd/results/tpu/{model.name}_results.csv\", index=False)\n",
        "    model.save(f'/content/my-mmd/results/tpu/models/{model.name}.h5', options=save_locally)"
      ]
    },
    {
      "cell_type": "code",
      "execution_count": null,
      "metadata": {
        "id": "lVL9uxUvgxzV"
      },
      "outputs": [],
      "source": []
    },
    {
      "cell_type": "markdown",
      "metadata": {
        "id": "OeT3SB-ZY8ov"
      },
      "source": [
        "# Sending CustomNetSmall (1 attention layer) data to spreadsheet (VERY IMPORTANT):"
      ]
    },
    {
      "cell_type": "code",
      "execution_count": null,
      "metadata": {
        "id": "-ftNUyV8Y8ov"
      },
      "outputs": [],
      "source": [
        "# Sendind data to spreadseet:\n",
        "with strategy.scope():\n",
        "\n",
        "    spreadsheet_id = \"1ceVqsaNC5GZ2bcduY8ULZW9NlZlcYDfS6wWhEKLOZd4\"\n",
        "    import gspread\n",
        "    from google.auth import default\n",
        "    creds, _ = default()\n",
        "\n",
        "    c = gspread.authorize(creds)\n",
        "\n",
        "    wb = c.open_by_key(spreadsheet_id)\n",
        "\n",
        "    # Accessing precision, recall, and F1-score for all classes combined (last row)\n",
        "    precision = clf_report['weighted avg']['precision']\n",
        "    recall = clf_report['weighted avg']['recall']\n",
        "    f1_score = clf_report['weighted avg']['f1-score']\n",
        "\n",
        "    # Printing the aggregated metrics for all classes combined\n",
        "    print(f\"Weighted Average - Precision: {precision}, Recall: {recall}, F1-score: {f1_score}\")\n",
        "\n",
        "    # Constructing the row data to be appended\n",
        "    try:\n",
        "        row_data = [\n",
        "            '21',  # String value\n",
        "            base_model.name,  # String value\n",
        "            'Yes' if base_model.trainable else 'No',\n",
        "            '500',\n",
        "            str(earlyStopping.epochs_before_stopping),\n",
        "            str(round(float(train_accuracy),4)),  # Convert to string if not already\n",
        "            str(round(float(train_loss),4)),  # Convert to string if not already\n",
        "            str(round(float(val_accuracy),4)),  # Convert to string if not already\n",
        "            str(round(float(val_loss),4)),  # Convert to string if not already\n",
        "            str(round(float(test_accuracy),4)),  # Convert to string if not already\n",
        "            str(round(float(test_loss),4)),  # Convert to string if not already\n",
        "            str(round(float(precision),4)),\n",
        "            str(round(float(recall),4)),\n",
        "            str(round(float(f1_score),4))\n",
        "        ]\n",
        "    except:\n",
        "        row_data = [\n",
        "            '21',  # String value\n",
        "            model.name,  # String value\n",
        "            'Yes' if model.trainable else 'No',\n",
        "            '500',\n",
        "            str(earlyStopping.epochs_before_stopping),\n",
        "            str(round(float(train_accuracy),4)),  # Convert to string if not already\n",
        "            str(round(float(train_loss),4)),  # Convert to string if not already\n",
        "            str(round(float(val_accuracy),4)),  # Convert to string if not already\n",
        "            str(round(float(val_loss),4)),  # Convert to string if not already\n",
        "            str(round(float(test_accuracy),4)),  # Convert to string if not already\n",
        "            str(round(float(test_loss),4)),  # Convert to string if not already\n",
        "            str(round(float(precision),4)),\n",
        "            str(round(float(recall),4)),\n",
        "            str(round(float(f1_score),4))\n",
        "        ]\n",
        "\n",
        "    ws = wb.worksheet('Sheet1')\n",
        "\n",
        "    ws.append_row(row_data)"
      ]
    },
    {
      "cell_type": "code",
      "execution_count": null,
      "metadata": {
        "id": "SlwknfSwY8ov"
      },
      "outputs": [],
      "source": [
        "# If above code doesn't automatically update the values, copy the values from here and Ctrl+Shift+V on Spreadsheet to paste the values:\n",
        "\n",
        "import math\n",
        "for x in row_data:\n",
        "  try:\n",
        "    print(round(float(x),4), end=\"\\t\")\n",
        "  except:\n",
        "    print(x, end = \"\\t\")"
      ]
    },
    {
      "cell_type": "code",
      "execution_count": null,
      "metadata": {
        "id": "ELFFDH_vY8ow"
      },
      "outputs": [],
      "source": []
    }
  ]
}